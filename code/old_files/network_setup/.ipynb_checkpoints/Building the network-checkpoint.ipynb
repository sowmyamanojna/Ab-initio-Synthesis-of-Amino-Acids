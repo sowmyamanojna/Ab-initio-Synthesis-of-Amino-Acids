{
 "cells": [
  {
   "cell_type": "code",
   "execution_count": 1,
   "metadata": {},
   "outputs": [],
   "source": [
    "def formal_charge(os,v,n_cur): #n_cur is basically the degree of the node which is the numbr of covalent bonds\n",
    "    f = v - n_cur - (v+os)\n",
    "    return f"
   ]
  },
  {
   "cell_type": "code",
   "execution_count": 2,
   "metadata": {},
   "outputs": [],
   "source": [
    "def sub2node(G,H):\n",
    "    \n",
    "    attrs = nx.get_node_attributes(G)\n",
    "    # H is a subgraph of G\n",
    "    a = list(H.nodes())\n",
    "    new = ''\n",
    "    for i in range(len(a)):\n",
    "        new+=a[i]\n",
    "    G.add_node(new)\n",
    "    \n",
    "    os = 0\n",
    "    v_elec = 0\n",
    "    \n",
    "    for node in H.nodes():\n",
    "        v_elec+=H.nodes[node]['valence_electrons']\n",
    "        a = H.nodes[node]['OS']\n",
    "        b = H.nodes[node]['valence_electrons']\n",
    "        c = H.nodes[node]['n_cur']\n",
    "        os+=formal_charge(a,b,c)\n",
    "    \n",
    "    attrs = {**attrs, **{new: {'OS':os, 'valence_electrons': v_elec, 'n_cur': 0}}}\n",
    "    nx.set_node_attributes(G, attrs)\n",
    "    \n",
    "    return G"
   ]
  },
  {
   "cell_type": "code",
   "execution_count": 3,
   "metadata": {},
   "outputs": [
    {
     "ename": "SyntaxError",
     "evalue": "invalid syntax (<ipython-input-3-c498f4f2fbed>, line 29)",
     "output_type": "error",
     "traceback": [
      "\u001b[0;36m  File \u001b[0;32m\"<ipython-input-3-c498f4f2fbed>\"\u001b[0;36m, line \u001b[0;32m29\u001b[0m\n\u001b[0;31m    initial_G = #G of the particular node\u001b[0m\n\u001b[0m                                         ^\u001b[0m\n\u001b[0;31mSyntaxError\u001b[0m\u001b[0;31m:\u001b[0m invalid syntax\n"
     ]
    }
   ],
   "source": [
    "import networkx as nx\n",
    "import random\n",
    "import math\n",
    "\n",
    "G = nx.Graph()\n",
    "initial_CH4 = ['CH4']*32\n",
    "initial_NH3 = ['NH3']*8\n",
    "initial_CO2 = ['CO2']*8\n",
    "initial_H2S = ['H2S']*8\n",
    "initial_comp = initial_CH4\n",
    "for i in range(len(initial_NH3)):\n",
    "    initial_comp.append(initial_NH3[i])\n",
    "    initial_comp.append(initial_CO2[i])\n",
    "    initial_comp.append(initial_H2S[i])\n",
    "for i in range(len(initial_comp)):\n",
    "    initial_comp[i]=(i+1,initial_comp[i])\n",
    "G.add_nodes_from(initial_comp)\n",
    "\n",
    "#G now has initial compounds \n",
    "T = nx.Graph() #Temperory\n",
    "p_start = 0.7 # Probability of acepting bad moves at the start\n",
    "p_end = 0.01 # Probability of acepting bad moves at the end\n",
    "\n",
    "t1 = -1.0/math.log(p1) # Initial temperature\n",
    "t50 = -1.0/math.log(p50) # Final temperature\n",
    "\n",
    "for i in range(len(G)):\n",
    "    nodes = list(G.nodes)\n",
    "    initial_G = #G of the particular node\n",
    "    for j in range(i+1, len(G)):\n",
    "        T = G\n",
    "        T.add_edge(nodes[i][0],nodes[j][0])\n",
    "        H = G.subgraph([nodes[i][0],nodes[j][0]])\n",
    "        new_G = #value of G after the two nodes are joined.\n",
    "        obj = new_G - initial_G #We need to minimise this objective function\n",
    "        \n",
    "        #Do simulated annealing to set a boolean value for accept.\n",
    "        \n",
    "        if accept==True:\n",
    "            G = sub2node(G,H)\n",
    "     #Something to check if G has become any one of the amino acids. If yes, report it - may be store the network at that stage as another graph itself. We can use it for further analysis.\n",
    "    \n",
    "    #Sorry. Couldn't write further :P        "
   ]
  },
  {
   "cell_type": "code",
   "execution_count": null,
   "metadata": {},
   "outputs": [],
   "source": []
  }
 ],
 "metadata": {
  "kernelspec": {
   "display_name": "Python 3",
   "language": "python",
   "name": "python3"
  },
  "language_info": {
   "codemirror_mode": {
    "name": "ipython",
    "version": 3
   },
   "file_extension": ".py",
   "mimetype": "text/x-python",
   "name": "python",
   "nbconvert_exporter": "python",
   "pygments_lexer": "ipython3",
   "version": "3.6.9"
  }
 },
 "nbformat": 4,
 "nbformat_minor": 4
}
