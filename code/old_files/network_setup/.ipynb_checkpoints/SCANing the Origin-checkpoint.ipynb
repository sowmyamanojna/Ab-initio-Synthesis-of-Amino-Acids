{
 "cells": [
  {
   "cell_type": "code",
   "execution_count": 2,
   "metadata": {},
   "outputs": [
    {
     "data": {
      "text/plain": [
       "[(0, 1), (1, 2)]"
      ]
     },
     "execution_count": 2,
     "metadata": {},
     "output_type": "execute_result"
    }
   ],
   "source": [
    "import networkx as nx\n",
    "G = nx.path_graph(4)  # or DiGraph, MultiGraph, MultiDiGraph, etc\n",
    "H = G.subgraph([0, 1, 2])\n",
    "list(H.edges)"
   ]
  },
  {
   "cell_type": "markdown",
   "metadata": {},
   "source": [
    "import networkx as nx"
   ]
  },
  {
   "cell_type": "code",
   "execution_count": 37,
   "metadata": {},
   "outputs": [
    {
     "name": "stdout",
     "output_type": "stream",
     "text": [
      "4\n",
      "<class 'list'>\n",
      "NOCS\n",
      "8\n"
     ]
    },
    {
     "data": {
      "image/png": "[encoded data removed]",
      "text/plain": [
       "<Figure size 432x288 with 1 Axes>"
      ]
     },
     "metadata": {},
     "output_type": "display_data"
    }
   ],
   "source": [
    "G = nx.Graph()\n",
    "early_atoms = ['N','O','C','S']\n",
    "attrs = {'C': {'OS':4, 'valence_electrons': 4, 'n_cur': 0}, 'N': {'OS':-3, 'valence_electrons': 5, 'n_cur': 0}, 'O': {'OS':-2, 'valence_electrons': 6, 'n_cur': 0}, 'S': {'OS':-2, 'valence_electrons': 6, 'n_cur': 0}}\n",
    "G.add_nodes_from(early_atoms)\n",
    "nx.set_node_attributes(G, attrs)\n",
    "print(G.nodes['C']['OS'])\n",
    "\n",
    "a = list(G.nodes())\n",
    "print(type(a))\n",
    "# print(a)\n",
    "new = ''\n",
    "for i in range(len(a)):\n",
    "    new+=a[i]\n",
    "print(new)\n",
    "G.add_node(new)\n",
    "nx.draw(G)\n",
    "attrs = {**attrs, **{new: {'OS':8, 'valence_electrons': 4, 'n_cur': 0}}}\n",
    "nx.set_node_attributes(G, attrs)\n",
    "print(G.nodes[new]['OS'])"
   ]
  },
  {
   "cell_type": "code",
   "execution_count": 39,
   "metadata": {},
   "outputs": [],
   "source": [
    "def formal_charge(os,v,n_cur): #n_cur is basically the degree of the node which is the numbr of covalent bonds\n",
    "    f = v - n_cur - (v+os)\n",
    "    return f\n"
   ]
  },
  {
   "cell_type": "code",
   "execution_count": 41,
   "metadata": {},
   "outputs": [],
   "source": [
    "def sub2node(G,H):\n",
    "    \n",
    "    attrs = nx.get_node_attributes(G)\n",
    "    # H is a subgraph of G\n",
    "    a = list(H.nodes())\n",
    "    new = ''\n",
    "    for i in range(len(a)):\n",
    "        new+=a[i]\n",
    "    G.add_node(new)\n",
    "    \n",
    "    os = 0\n",
    "    v_elec = 0\n",
    "    \n",
    "    for node in H.nodes():\n",
    "        v_elec+=H.nodes[node]['valence_electrons']\n",
    "        a = H.nodes[node]['OS']\n",
    "        b = H.nodes[node]['valence_electrons']\n",
    "        c = H.nodes[node]['n_cur']\n",
    "        os+=formal_charge(a,b,c)\n",
    "    \n",
    "    attrs = {**attrs, **{new: {'OS':os, 'valence_electrons': v_elec, 'n_cur': 0}}}\n",
    "    nx.set_node_attributes(G, attrs)\n",
    "    \n",
    "    return G\n"
   ]
  },
  {
   "cell_type": "code",
   "execution_count": null,
   "metadata": {},
   "outputs": [],
   "source": []
  }
 ],
 "metadata": {
  "kernelspec": {
   "display_name": "Python 3",
   "language": "python",
   "name": "python3"
  },
  "language_info": {
   "codemirror_mode": {
    "name": "ipython",
    "version": 3
   },
   "file_extension": ".py",
   "mimetype": "text/x-python",
   "name": "python",
   "nbconvert_exporter": "python",
   "pygments_lexer": "ipython3",
   "version": "3.7.3"
  }
 },
 "nbformat": 4,
 "nbformat_minor": 2
}
