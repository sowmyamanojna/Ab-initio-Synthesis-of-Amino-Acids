{
 "cells": [
  {
   "cell_type": "code",
   "execution_count": 1,
   "metadata": {},
   "outputs": [],
   "source": [
    "# Import all essential libraries\n",
    "\n",
    "import os\n",
    "import csv\n",
    "import ipdb\n",
    "import math\n",
    "import warnings\n",
    "import random as r\n",
    "import numpy as np\n",
    "import networkx as nx\n",
    "import scipy.constants as sc\n",
    "import matplotlib.pyplot as plt\n",
    "import networkx.algorithms.isomorphism as iso"
   ]
  },
  {
   "cell_type": "code",
   "execution_count": 2,
   "metadata": {},
   "outputs": [],
   "source": [
    "# Function to calculate H\n",
    "\n",
    "def calculate_H(data, T):\n",
    "    [a_2, a_1, a0, a1, a2, a3, a4, a5, _] = data\n",
    "\n",
    "    H = sc.R*T*(-a_2*T**-2 + a_1*T**-1*np.log(T) + a0 + 0.5*a1*T + (a2*T**2)/3 + 0.25*a3*T**3 + 0.2*a4*T**4 +a5*T**-1)\n",
    "    return H\n",
    "\n",
    "# Function to calculate S\n",
    "\n",
    "def calculate_S(data, T):\n",
    "    [a_2, a_1, a0, a1, a2, a3, a4, _, a6] = data\n",
    "\n",
    "    S = sc.R*(-0.5*a_2*T**-2 - a_1*T**-1 + a0*np.log(T) + a1*T + 0.5*a2*T**2 + (a3*T**3/3) + 0.25*a4*T**4 + a6)\n",
    "\n",
    "    return S\n",
    "\n",
    "# Function to calculate G\n",
    "\n",
    "def calculate_G(H, S, T):\n",
    "    G = H - T*S\n",
    "    return G"
   ]
  },
  {
   "cell_type": "code",
   "execution_count": 3,
   "metadata": {},
   "outputs": [],
   "source": [
    "# Code to calculate the H, S and G values for specific compound\n",
    "def get_single_compound_data(lib, temperature, path, file_name):\n",
    "    # Code to calculate the H, S and G values for specific compound\n",
    "    os.chdir(path) \n",
    "\n",
    "    directory = f\"{lib}_data\"    \n",
    "    if os.path.exists(f\"{directory}/csv\"):\n",
    "        os.chdir(f\"{directory}/csv\")\n",
    "        \n",
    "        fin = open(file_name)\n",
    "        reader = csv.reader(fin)\n",
    "        data1 = []\n",
    "        data2 = []\n",
    "\n",
    "        for row in reader:\n",
    "            data1.append(float(row[0]))\n",
    "            data2.append(float(row[1]))\n",
    "            \n",
    "        if (temperature > data1[0] and temperature < data1[1]):\n",
    "            # print('Choosing from data 1')\n",
    "            data = data1[2:]\n",
    "        elif (temperature > data2[0] and temperature < data2[1]):\n",
    "            # print('Choosing from data 2')\n",
    "            data = data2[2:]\n",
    "        else:\n",
    "            print(\"The enquired compound doesn't have data for the temperature provided.\")\n",
    "\n",
    "        H = calculate_H(data, temperature)\n",
    "        S = calculate_S(data, temperature)\n",
    "        G = calculate_G(H, S, temperature)\n",
    "        \n",
    "        KH = H/1000\n",
    "        KS = S/1000\n",
    "        KG = G/1000\n",
    "        os.chdir(path)\n",
    "        return (KH, KS, KG)\n",
    "    else:\n",
    "        print(\"The file requested is unavailable\")"
   ]
  },
  {
   "cell_type": "code",
   "execution_count": 4,
   "metadata": {},
   "outputs": [
    {
     "name": "stdout",
     "output_type": "stream",
     "text": [
      "(121.402555049694, 0.29224148204517586, -83.16648238192911)\n"
     ]
    }
   ],
   "source": [
    "# A test example for calculating G\n",
    "\n",
    "temperature = 700\n",
    "path = os.getcwd()\n",
    "\n",
    "lib = \"NOx2018\"\n",
    "file_name = \"89.csv\"\n",
    "\n",
    "os.chdir(path)\n",
    "result = get_single_compound_data(lib, temperature, path, file_name)\n",
    "print(result)"
   ]
  },
  {
   "cell_type": "code",
   "execution_count": 5,
   "metadata": {},
   "outputs": [],
   "source": [
    "def cal_to_Kjoule(cal):\n",
    "    joule = cal/sc.calorie\n",
    "    KJ = joule/1000\n",
    "    \n",
    "    return KJ"
   ]
  },
  {
   "cell_type": "code",
   "execution_count": 6,
   "metadata": {
    "scrolled": true
   },
   "outputs": [
    {
     "data": {
      "text/plain": [
       "1.5750478011472275"
      ]
     },
     "execution_count": 6,
     "metadata": {},
     "output_type": "execute_result"
    }
   ],
   "source": [
    "cal_to_Kjoule(6590)"
   ]
  }
 ],
 "metadata": {
  "kernelspec": {
   "display_name": "Python 3",
   "language": "python",
   "name": "python3"
  },
  "language_info": {
   "codemirror_mode": {
    "name": "ipython",
    "version": 3
   },
   "file_extension": ".py",
   "mimetype": "text/x-python",
   "name": "python",
   "nbconvert_exporter": "python",
   "pygments_lexer": "ipython3",
   "version": "3.8.2"
  }
 },
 "nbformat": 4,
 "nbformat_minor": 4
}
