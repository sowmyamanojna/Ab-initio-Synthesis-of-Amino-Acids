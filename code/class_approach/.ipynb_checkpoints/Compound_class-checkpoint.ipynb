{
 "cells": [
  {
   "cell_type": "code",
   "execution_count": 1,
   "metadata": {},
   "outputs": [],
   "source": [
    "import networkx as nx\n",
    "import matplotlib.pyplot as plt"
   ]
  },
  {
   "cell_type": "code",
   "execution_count": 4,
   "metadata": {},
   "outputs": [],
   "source": [
    "class Compound():\n",
    "\n",
    "\tdef __init__(self, name, number):\n",
    "\t\tself._name = name + \" \" + str(number)\n",
    "\t\tself._number = number\n",
    "\t\tself._valency = self.get_valence()\n",
    "\n",
    "\tdef get_valence(self):\n",
    "\t\tname = self._name.split()[0]\n",
    "\t\tif name == \"H\":\n",
    "\t\t\treturn 1\n",
    "\t\telif name == \"C\":\n",
    "\t\t\treturn 4\n",
    "\t\telif name == \"N\":\n",
    "\t\t\treturn 3\n",
    "\t\telif name == \"O\":\n",
    "\t\t\treturn 2\n",
    "\t\telif name == \"S\":\n",
    "\t\t\treturn 2\n",
    "\n",
    "\tdef __repr__(self):\n",
    "\t\tG = nx.Graph()\n",
    "\t\tG.add_node(self._name, data = self)\n",
    "\t\tnx.draw(G, with_labels=True)\n",
    "\t\treturn self._name"
   ]
  },
  {
   "cell_type": "code",
   "execution_count": 5,
   "metadata": {},
   "outputs": [
    {
     "name": "stdout",
     "output_type": "stream",
     "text": [
      "C 1\n"
     ]
    },
    {
     "data": {
      "image/png": "[encoded data removed]",
      "text/plain": [
       "<Figure size 432x288 with 1 Axes>"
      ]
     },
     "metadata": {},
     "output_type": "display_data"
    }
   ],
   "source": [
    "C1 = Compound(\"C\", 1)\n",
    "print(C1)"
   ]
  },
  {
   "cell_type": "code",
   "execution_count": null,
   "metadata": {},
   "outputs": [],
   "source": []
  }
 ],
 "metadata": {
  "kernelspec": {
   "display_name": "Python 3",
   "language": "python",
   "name": "python3"
  },
  "language_info": {
   "codemirror_mode": {
    "name": "ipython",
    "version": 3
   },
   "file_extension": ".py",
   "mimetype": "text/x-python",
   "name": "python",
   "nbconvert_exporter": "python",
   "pygments_lexer": "ipython3",
   "version": "3.6.9"
  }
 },
 "nbformat": 4,
 "nbformat_minor": 2
}
